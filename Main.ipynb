{
  "nbformat": 4,
  "nbformat_minor": 0,
  "metadata": {
    "colab": {
      "name": "Main.ipynb",
      "provenance": [],
      "authorship_tag": "ABX9TyPrywXoaFelIlGg+UjKCi+I"
    },
    "kernelspec": {
      "name": "python3",
      "display_name": "Python 3"
    },
    "language_info": {
      "name": "python"
    }
  },
  "cells": [
    {
      "cell_type": "code",
      "execution_count": 17,
      "metadata": {
        "id": "8ysToZ-wR9va"
      },
      "outputs": [],
      "source": [
        "#Import all the required library\n",
        "import pandas as pd\n",
        "import numpy as np\n",
        "from joblib import dump, load\n",
        "from sklearn import preprocessing "
      ]
    },
    {
      "cell_type": "code",
      "source": [
        "#import the testing dataset \n",
        "#You can decalre your own path\n",
        "path = \"data/test.csv\"\n",
        "df_test = pd.read_csv(path, header = 0)"
      ],
      "metadata": {
        "id": "9IdMpqEqEYuU"
      },
      "execution_count": 18,
      "outputs": []
    },
    {
      "cell_type": "code",
      "source": [
        "#Preprocessing for the testing dataset\n",
        "#Replace the NaN value with mean \n",
        "df_test.fillna(df_test.mean(), inplace=True)\n",
        "#Separate the patient age into different bin\n",
        "df_test['Age'] = pd.cut(df_test['Age'],bins=[10,20,30,40,50,60,1000],\\\n",
        "                                       labels=['Age: 10-20', 'Age: 20-30', 'Age: 30-40', 'Age: 40-50', 'Age: 50-60', 'Age: 60 - Above'])\n",
        "lbl = preprocessing.LabelEncoder()\n",
        "df_test['Age'] = lbl.fit_transform(df_test['Age'].astype(str))\n",
        "#Drop the ID\n",
        "df_test = df_test.iloc[:,1:] "
      ],
      "metadata": {
        "id": "-gv_x9vuEcQI"
      },
      "execution_count": 19,
      "outputs": []
    },
    {
      "cell_type": "code",
      "source": [
        "#Load the saved model \n",
        "Load_model = load('Final_Model.joblib') "
      ],
      "metadata": {
        "id": "qpSxqdN6PxA4"
      },
      "execution_count": 20,
      "outputs": []
    },
    {
      "cell_type": "code",
      "source": [
        "#Make the prediction using the model\n",
        "predictions = Load_model.predict(df_test)"
      ],
      "metadata": {
        "id": "M36oBA3VQUB_"
      },
      "execution_count": 24,
      "outputs": []
    },
    {
      "cell_type": "code",
      "source": [
        "#Output to CSV with header of ID & Label \n",
        "#You can declare the path \n",
        "path = \"submission.csv\"\n",
        "x_np = predictions.astype(int)\n",
        "df = pd.DataFrame(x_np)\n",
        "df.rename_axis('id', inplace=True)\n",
        "df.to_csv(path,index = True, header=['label'])"
      ],
      "metadata": {
        "id": "XyKjGWj1QYkw"
      },
      "execution_count": 25,
      "outputs": []
    }
  ]
}