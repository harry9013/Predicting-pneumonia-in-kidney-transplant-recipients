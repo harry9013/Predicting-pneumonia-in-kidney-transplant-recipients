{
  "nbformat": 4,
  "nbformat_minor": 0,
  "metadata": {
    "colab": {
      "name": "5001_model_training_Process.ipynb",
      "provenance": [],
      "mount_file_id": "10rpoJ3WxibG46BwnPWvPD_lELoVOZry0",
      "authorship_tag": "ABX9TyNxsdORctX804tmGs/10E6d"
    },
    "kernelspec": {
      "name": "python3",
      "display_name": "Python 3"
    },
    "language_info": {
      "name": "python"
    }
  },
  "cells": [
    {
      "cell_type": "markdown",
      "source": [
        "#Import library & dataset"
      ],
      "metadata": {
        "id": "xKtAn7SuTWUa"
      }
    },
    {
      "cell_type": "code",
      "execution_count": 42,
      "metadata": {
        "id": "fcbggWPoSaX4"
      },
      "outputs": [],
      "source": [
        "#Import all required library \n",
        "import pandas as pd\n",
        "import numpy as np\n",
        "from sklearn import preprocessing \n",
        "from sklearn.model_selection import train_test_split\n",
        "from sklearn.model_selection import GridSearchCV\n",
        "from imblearn.over_sampling import SMOTE\n",
        "from sklearn.ensemble import RandomForestClassifier\n",
        "from joblib import dump, load"
      ]
    },
    {
      "cell_type": "code",
      "source": [
        "#Import the dataset\n",
        "#You can change the path of the testing dataset \n",
        "path = \"data/train.csv\"\n",
        "df_train = pd.read_csv(path,header = 0)\n",
        "path = \"data/test.csv\"\n",
        "df_test = pd.read_csv(path, header = 0)"
      ],
      "metadata": {
        "id": "rK8X8s_HSkWu"
      },
      "execution_count": 21,
      "outputs": []
    },
    {
      "cell_type": "code",
      "source": [
        "print(f'Shape of training dataset:{df_train.shape}')\n",
        "print(f'Shape of testing dataset:{df_test.shape}')"
      ],
      "metadata": {
        "colab": {
          "base_uri": "https://localhost:8080/"
        },
        "id": "-EbXk1LeSkzp",
        "outputId": "169647f5-5933-4fd6-93df-ab9ae5c01a36"
      },
      "execution_count": 22,
      "outputs": [
        {
          "output_type": "stream",
          "name": "stdout",
          "text": [
            "Shape of training dataset:(87, 13)\n",
            "Shape of testing dataset:(59, 12)\n"
          ]
        }
      ]
    },
    {
      "cell_type": "markdown",
      "source": [
        "#Data exploration"
      ],
      "metadata": {
        "id": "YkXZE3EhTUCl"
      }
    },
    {
      "cell_type": "code",
      "source": [
        "#Check the summary of the data \n",
        "df_train.describe()"
      ],
      "metadata": {
        "colab": {
          "base_uri": "https://localhost:8080/",
          "height": 362
        },
        "id": "HoHoJG9oSyKn",
        "outputId": "e3b38b1e-51fc-49dc-8ca9-8071b945971c"
      },
      "execution_count": 23,
      "outputs": [
        {
          "output_type": "execute_result",
          "data": {
            "text/plain": [
              "              id  MO HLADR+ MFI (cells/ul)  Neu CD64+MFI (cells/ul)  \\\n",
              "count  87.000000                 86.000000                86.000000   \n",
              "mean   43.000000               1264.244186               290.383721   \n",
              "std    25.258662                765.452376               490.283499   \n",
              "min     0.000000                112.000000                30.000000   \n",
              "25%    21.500000                685.500000                77.500000   \n",
              "50%    43.000000               1108.500000               124.500000   \n",
              "75%    64.500000               1602.250000               244.500000   \n",
              "max    86.000000               4145.000000              3124.000000   \n",
              "\n",
              "       CD3+T (cells/ul)  CD8+T (cells/ul)  CD4+T (cells/ul)  NK (cells/ul)  \\\n",
              "count         87.000000         87.000000         87.000000      87.000000   \n",
              "mean         982.570115        479.340920        494.904023     212.732874   \n",
              "std          617.332545        344.326452        311.836604     173.553264   \n",
              "min           74.400000         36.610000         39.590000       0.000000   \n",
              "25%          549.390000        237.920000        272.745000      78.815000   \n",
              "50%          871.710000        423.270000        459.720000     188.780000   \n",
              "75%         1268.085000        624.450000        624.360000     262.845000   \n",
              "max         3791.230000       2548.100000       1517.810000     878.040000   \n",
              "\n",
              "       CD19+ (cells/ul)  CD45+ (cells/ul)        Age   Sex 0M1F  \\\n",
              "count         87.000000         87.000000  87.000000  87.000000   \n",
              "mean         118.780920       1325.096437  40.218391   0.482759   \n",
              "std           96.218344        791.602538  10.461919   0.502599   \n",
              "min            4.200000        209.250000  19.000000   0.000000   \n",
              "25%           52.425000        780.615000  33.000000   0.000000   \n",
              "50%           89.790000       1179.270000  41.000000   0.000000   \n",
              "75%          155.450000       1617.725000  49.500000   1.000000   \n",
              "max          485.860000       4757.280000  60.000000   1.000000   \n",
              "\n",
              "       Mono CD64+MFI (cells/ul)      label  \n",
              "count                 86.000000  87.000000  \n",
              "mean                2066.534884   0.333333  \n",
              "std                 1198.401364   0.474137  \n",
              "min                   72.000000   0.000000  \n",
              "25%                 1461.250000   0.000000  \n",
              "50%                 1757.500000   0.000000  \n",
              "75%                 2238.250000   1.000000  \n",
              "max                 7515.000000   1.000000  "
            ],
            "text/html": [
              "\n",
              "  <div id=\"df-e03768ae-fb30-4de7-8a48-de160469df47\">\n",
              "    <div class=\"colab-df-container\">\n",
              "      <div>\n",
              "<style scoped>\n",
              "    .dataframe tbody tr th:only-of-type {\n",
              "        vertical-align: middle;\n",
              "    }\n",
              "\n",
              "    .dataframe tbody tr th {\n",
              "        vertical-align: top;\n",
              "    }\n",
              "\n",
              "    .dataframe thead th {\n",
              "        text-align: right;\n",
              "    }\n",
              "</style>\n",
              "<table border=\"1\" class=\"dataframe\">\n",
              "  <thead>\n",
              "    <tr style=\"text-align: right;\">\n",
              "      <th></th>\n",
              "      <th>id</th>\n",
              "      <th>MO HLADR+ MFI (cells/ul)</th>\n",
              "      <th>Neu CD64+MFI (cells/ul)</th>\n",
              "      <th>CD3+T (cells/ul)</th>\n",
              "      <th>CD8+T (cells/ul)</th>\n",
              "      <th>CD4+T (cells/ul)</th>\n",
              "      <th>NK (cells/ul)</th>\n",
              "      <th>CD19+ (cells/ul)</th>\n",
              "      <th>CD45+ (cells/ul)</th>\n",
              "      <th>Age</th>\n",
              "      <th>Sex 0M1F</th>\n",
              "      <th>Mono CD64+MFI (cells/ul)</th>\n",
              "      <th>label</th>\n",
              "    </tr>\n",
              "  </thead>\n",
              "  <tbody>\n",
              "    <tr>\n",
              "      <th>count</th>\n",
              "      <td>87.000000</td>\n",
              "      <td>86.000000</td>\n",
              "      <td>86.000000</td>\n",
              "      <td>87.000000</td>\n",
              "      <td>87.000000</td>\n",
              "      <td>87.000000</td>\n",
              "      <td>87.000000</td>\n",
              "      <td>87.000000</td>\n",
              "      <td>87.000000</td>\n",
              "      <td>87.000000</td>\n",
              "      <td>87.000000</td>\n",
              "      <td>86.000000</td>\n",
              "      <td>87.000000</td>\n",
              "    </tr>\n",
              "    <tr>\n",
              "      <th>mean</th>\n",
              "      <td>43.000000</td>\n",
              "      <td>1264.244186</td>\n",
              "      <td>290.383721</td>\n",
              "      <td>982.570115</td>\n",
              "      <td>479.340920</td>\n",
              "      <td>494.904023</td>\n",
              "      <td>212.732874</td>\n",
              "      <td>118.780920</td>\n",
              "      <td>1325.096437</td>\n",
              "      <td>40.218391</td>\n",
              "      <td>0.482759</td>\n",
              "      <td>2066.534884</td>\n",
              "      <td>0.333333</td>\n",
              "    </tr>\n",
              "    <tr>\n",
              "      <th>std</th>\n",
              "      <td>25.258662</td>\n",
              "      <td>765.452376</td>\n",
              "      <td>490.283499</td>\n",
              "      <td>617.332545</td>\n",
              "      <td>344.326452</td>\n",
              "      <td>311.836604</td>\n",
              "      <td>173.553264</td>\n",
              "      <td>96.218344</td>\n",
              "      <td>791.602538</td>\n",
              "      <td>10.461919</td>\n",
              "      <td>0.502599</td>\n",
              "      <td>1198.401364</td>\n",
              "      <td>0.474137</td>\n",
              "    </tr>\n",
              "    <tr>\n",
              "      <th>min</th>\n",
              "      <td>0.000000</td>\n",
              "      <td>112.000000</td>\n",
              "      <td>30.000000</td>\n",
              "      <td>74.400000</td>\n",
              "      <td>36.610000</td>\n",
              "      <td>39.590000</td>\n",
              "      <td>0.000000</td>\n",
              "      <td>4.200000</td>\n",
              "      <td>209.250000</td>\n",
              "      <td>19.000000</td>\n",
              "      <td>0.000000</td>\n",
              "      <td>72.000000</td>\n",
              "      <td>0.000000</td>\n",
              "    </tr>\n",
              "    <tr>\n",
              "      <th>25%</th>\n",
              "      <td>21.500000</td>\n",
              "      <td>685.500000</td>\n",
              "      <td>77.500000</td>\n",
              "      <td>549.390000</td>\n",
              "      <td>237.920000</td>\n",
              "      <td>272.745000</td>\n",
              "      <td>78.815000</td>\n",
              "      <td>52.425000</td>\n",
              "      <td>780.615000</td>\n",
              "      <td>33.000000</td>\n",
              "      <td>0.000000</td>\n",
              "      <td>1461.250000</td>\n",
              "      <td>0.000000</td>\n",
              "    </tr>\n",
              "    <tr>\n",
              "      <th>50%</th>\n",
              "      <td>43.000000</td>\n",
              "      <td>1108.500000</td>\n",
              "      <td>124.500000</td>\n",
              "      <td>871.710000</td>\n",
              "      <td>423.270000</td>\n",
              "      <td>459.720000</td>\n",
              "      <td>188.780000</td>\n",
              "      <td>89.790000</td>\n",
              "      <td>1179.270000</td>\n",
              "      <td>41.000000</td>\n",
              "      <td>0.000000</td>\n",
              "      <td>1757.500000</td>\n",
              "      <td>0.000000</td>\n",
              "    </tr>\n",
              "    <tr>\n",
              "      <th>75%</th>\n",
              "      <td>64.500000</td>\n",
              "      <td>1602.250000</td>\n",
              "      <td>244.500000</td>\n",
              "      <td>1268.085000</td>\n",
              "      <td>624.450000</td>\n",
              "      <td>624.360000</td>\n",
              "      <td>262.845000</td>\n",
              "      <td>155.450000</td>\n",
              "      <td>1617.725000</td>\n",
              "      <td>49.500000</td>\n",
              "      <td>1.000000</td>\n",
              "      <td>2238.250000</td>\n",
              "      <td>1.000000</td>\n",
              "    </tr>\n",
              "    <tr>\n",
              "      <th>max</th>\n",
              "      <td>86.000000</td>\n",
              "      <td>4145.000000</td>\n",
              "      <td>3124.000000</td>\n",
              "      <td>3791.230000</td>\n",
              "      <td>2548.100000</td>\n",
              "      <td>1517.810000</td>\n",
              "      <td>878.040000</td>\n",
              "      <td>485.860000</td>\n",
              "      <td>4757.280000</td>\n",
              "      <td>60.000000</td>\n",
              "      <td>1.000000</td>\n",
              "      <td>7515.000000</td>\n",
              "      <td>1.000000</td>\n",
              "    </tr>\n",
              "  </tbody>\n",
              "</table>\n",
              "</div>\n",
              "      <button class=\"colab-df-convert\" onclick=\"convertToInteractive('df-e03768ae-fb30-4de7-8a48-de160469df47')\"\n",
              "              title=\"Convert this dataframe to an interactive table.\"\n",
              "              style=\"display:none;\">\n",
              "        \n",
              "  <svg xmlns=\"http://www.w3.org/2000/svg\" height=\"24px\"viewBox=\"0 0 24 24\"\n",
              "       width=\"24px\">\n",
              "    <path d=\"M0 0h24v24H0V0z\" fill=\"none\"/>\n",
              "    <path d=\"M18.56 5.44l.94 2.06.94-2.06 2.06-.94-2.06-.94-.94-2.06-.94 2.06-2.06.94zm-11 1L8.5 8.5l.94-2.06 2.06-.94-2.06-.94L8.5 2.5l-.94 2.06-2.06.94zm10 10l.94 2.06.94-2.06 2.06-.94-2.06-.94-.94-2.06-.94 2.06-2.06.94z\"/><path d=\"M17.41 7.96l-1.37-1.37c-.4-.4-.92-.59-1.43-.59-.52 0-1.04.2-1.43.59L10.3 9.45l-7.72 7.72c-.78.78-.78 2.05 0 2.83L4 21.41c.39.39.9.59 1.41.59.51 0 1.02-.2 1.41-.59l7.78-7.78 2.81-2.81c.8-.78.8-2.07 0-2.86zM5.41 20L4 18.59l7.72-7.72 1.47 1.35L5.41 20z\"/>\n",
              "  </svg>\n",
              "      </button>\n",
              "      \n",
              "  <style>\n",
              "    .colab-df-container {\n",
              "      display:flex;\n",
              "      flex-wrap:wrap;\n",
              "      gap: 12px;\n",
              "    }\n",
              "\n",
              "    .colab-df-convert {\n",
              "      background-color: #E8F0FE;\n",
              "      border: none;\n",
              "      border-radius: 50%;\n",
              "      cursor: pointer;\n",
              "      display: none;\n",
              "      fill: #1967D2;\n",
              "      height: 32px;\n",
              "      padding: 0 0 0 0;\n",
              "      width: 32px;\n",
              "    }\n",
              "\n",
              "    .colab-df-convert:hover {\n",
              "      background-color: #E2EBFA;\n",
              "      box-shadow: 0px 1px 2px rgba(60, 64, 67, 0.3), 0px 1px 3px 1px rgba(60, 64, 67, 0.15);\n",
              "      fill: #174EA6;\n",
              "    }\n",
              "\n",
              "    [theme=dark] .colab-df-convert {\n",
              "      background-color: #3B4455;\n",
              "      fill: #D2E3FC;\n",
              "    }\n",
              "\n",
              "    [theme=dark] .colab-df-convert:hover {\n",
              "      background-color: #434B5C;\n",
              "      box-shadow: 0px 1px 3px 1px rgba(0, 0, 0, 0.15);\n",
              "      filter: drop-shadow(0px 1px 2px rgba(0, 0, 0, 0.3));\n",
              "      fill: #FFFFFF;\n",
              "    }\n",
              "  </style>\n",
              "\n",
              "      <script>\n",
              "        const buttonEl =\n",
              "          document.querySelector('#df-e03768ae-fb30-4de7-8a48-de160469df47 button.colab-df-convert');\n",
              "        buttonEl.style.display =\n",
              "          google.colab.kernel.accessAllowed ? 'block' : 'none';\n",
              "\n",
              "        async function convertToInteractive(key) {\n",
              "          const element = document.querySelector('#df-e03768ae-fb30-4de7-8a48-de160469df47');\n",
              "          const dataTable =\n",
              "            await google.colab.kernel.invokeFunction('convertToInteractive',\n",
              "                                                     [key], {});\n",
              "          if (!dataTable) return;\n",
              "\n",
              "          const docLinkHtml = 'Like what you see? Visit the ' +\n",
              "            '<a target=\"_blank\" href=https://colab.research.google.com/notebooks/data_table.ipynb>data table notebook</a>'\n",
              "            + ' to learn more about interactive tables.';\n",
              "          element.innerHTML = '';\n",
              "          dataTable['output_type'] = 'display_data';\n",
              "          await google.colab.output.renderOutput(dataTable, element);\n",
              "          const docLink = document.createElement('div');\n",
              "          docLink.innerHTML = docLinkHtml;\n",
              "          element.appendChild(docLink);\n",
              "        }\n",
              "      </script>\n",
              "    </div>\n",
              "  </div>\n",
              "  "
            ]
          },
          "metadata": {},
          "execution_count": 23
        }
      ]
    },
    {
      "cell_type": "code",
      "source": [
        "#Check the first 5 rows of data \n",
        "df_train.head()"
      ],
      "metadata": {
        "colab": {
          "base_uri": "https://localhost:8080/",
          "height": 267
        },
        "id": "HoaQWjO6S15H",
        "outputId": "e40446b5-9233-4dc1-b1c2-85b3b6543fe5"
      },
      "execution_count": 24,
      "outputs": [
        {
          "output_type": "execute_result",
          "data": {
            "text/plain": [
              "   id  MO HLADR+ MFI (cells/ul)  Neu CD64+MFI (cells/ul)  CD3+T (cells/ul)  \\\n",
              "0   0                    3556.0                   2489.0            265.19   \n",
              "1   1                    1906.0                    134.0           1442.61   \n",
              "2   2                    1586.0                     71.0           1332.74   \n",
              "3   3                     683.0                     94.0            419.23   \n",
              "4   4                    1032.0                     71.0           1102.72   \n",
              "\n",
              "   CD8+T (cells/ul)  CD4+T (cells/ul)  NK (cells/ul)  CD19+ (cells/ul)  \\\n",
              "0             77.53            176.55           0.00              4.20   \n",
              "1            551.90            876.07         112.10            168.15   \n",
              "2            684.20            655.26         244.95            216.52   \n",
              "3            255.80            162.17          72.05             44.68   \n",
              "4            480.27            625.30         188.78            130.77   \n",
              "\n",
              "   CD45+ (cells/ul)  Age  Sex 0M1F  Mono CD64+MFI (cells/ul)  label  \n",
              "0            307.91   52         0                    7515.0      1  \n",
              "1           1735.48   20         1                    1756.0      0  \n",
              "2           1820.04   28         1                    1311.0      0  \n",
              "3            538.22   55         1                    1443.0      0  \n",
              "4           1427.97   28         1                    1542.0      0  "
            ],
            "text/html": [
              "\n",
              "  <div id=\"df-2ac318c3-7ac6-4d62-8e41-473bc549235c\">\n",
              "    <div class=\"colab-df-container\">\n",
              "      <div>\n",
              "<style scoped>\n",
              "    .dataframe tbody tr th:only-of-type {\n",
              "        vertical-align: middle;\n",
              "    }\n",
              "\n",
              "    .dataframe tbody tr th {\n",
              "        vertical-align: top;\n",
              "    }\n",
              "\n",
              "    .dataframe thead th {\n",
              "        text-align: right;\n",
              "    }\n",
              "</style>\n",
              "<table border=\"1\" class=\"dataframe\">\n",
              "  <thead>\n",
              "    <tr style=\"text-align: right;\">\n",
              "      <th></th>\n",
              "      <th>id</th>\n",
              "      <th>MO HLADR+ MFI (cells/ul)</th>\n",
              "      <th>Neu CD64+MFI (cells/ul)</th>\n",
              "      <th>CD3+T (cells/ul)</th>\n",
              "      <th>CD8+T (cells/ul)</th>\n",
              "      <th>CD4+T (cells/ul)</th>\n",
              "      <th>NK (cells/ul)</th>\n",
              "      <th>CD19+ (cells/ul)</th>\n",
              "      <th>CD45+ (cells/ul)</th>\n",
              "      <th>Age</th>\n",
              "      <th>Sex 0M1F</th>\n",
              "      <th>Mono CD64+MFI (cells/ul)</th>\n",
              "      <th>label</th>\n",
              "    </tr>\n",
              "  </thead>\n",
              "  <tbody>\n",
              "    <tr>\n",
              "      <th>0</th>\n",
              "      <td>0</td>\n",
              "      <td>3556.0</td>\n",
              "      <td>2489.0</td>\n",
              "      <td>265.19</td>\n",
              "      <td>77.53</td>\n",
              "      <td>176.55</td>\n",
              "      <td>0.00</td>\n",
              "      <td>4.20</td>\n",
              "      <td>307.91</td>\n",
              "      <td>52</td>\n",
              "      <td>0</td>\n",
              "      <td>7515.0</td>\n",
              "      <td>1</td>\n",
              "    </tr>\n",
              "    <tr>\n",
              "      <th>1</th>\n",
              "      <td>1</td>\n",
              "      <td>1906.0</td>\n",
              "      <td>134.0</td>\n",
              "      <td>1442.61</td>\n",
              "      <td>551.90</td>\n",
              "      <td>876.07</td>\n",
              "      <td>112.10</td>\n",
              "      <td>168.15</td>\n",
              "      <td>1735.48</td>\n",
              "      <td>20</td>\n",
              "      <td>1</td>\n",
              "      <td>1756.0</td>\n",
              "      <td>0</td>\n",
              "    </tr>\n",
              "    <tr>\n",
              "      <th>2</th>\n",
              "      <td>2</td>\n",
              "      <td>1586.0</td>\n",
              "      <td>71.0</td>\n",
              "      <td>1332.74</td>\n",
              "      <td>684.20</td>\n",
              "      <td>655.26</td>\n",
              "      <td>244.95</td>\n",
              "      <td>216.52</td>\n",
              "      <td>1820.04</td>\n",
              "      <td>28</td>\n",
              "      <td>1</td>\n",
              "      <td>1311.0</td>\n",
              "      <td>0</td>\n",
              "    </tr>\n",
              "    <tr>\n",
              "      <th>3</th>\n",
              "      <td>3</td>\n",
              "      <td>683.0</td>\n",
              "      <td>94.0</td>\n",
              "      <td>419.23</td>\n",
              "      <td>255.80</td>\n",
              "      <td>162.17</td>\n",
              "      <td>72.05</td>\n",
              "      <td>44.68</td>\n",
              "      <td>538.22</td>\n",
              "      <td>55</td>\n",
              "      <td>1</td>\n",
              "      <td>1443.0</td>\n",
              "      <td>0</td>\n",
              "    </tr>\n",
              "    <tr>\n",
              "      <th>4</th>\n",
              "      <td>4</td>\n",
              "      <td>1032.0</td>\n",
              "      <td>71.0</td>\n",
              "      <td>1102.72</td>\n",
              "      <td>480.27</td>\n",
              "      <td>625.30</td>\n",
              "      <td>188.78</td>\n",
              "      <td>130.77</td>\n",
              "      <td>1427.97</td>\n",
              "      <td>28</td>\n",
              "      <td>1</td>\n",
              "      <td>1542.0</td>\n",
              "      <td>0</td>\n",
              "    </tr>\n",
              "  </tbody>\n",
              "</table>\n",
              "</div>\n",
              "      <button class=\"colab-df-convert\" onclick=\"convertToInteractive('df-2ac318c3-7ac6-4d62-8e41-473bc549235c')\"\n",
              "              title=\"Convert this dataframe to an interactive table.\"\n",
              "              style=\"display:none;\">\n",
              "        \n",
              "  <svg xmlns=\"http://www.w3.org/2000/svg\" height=\"24px\"viewBox=\"0 0 24 24\"\n",
              "       width=\"24px\">\n",
              "    <path d=\"M0 0h24v24H0V0z\" fill=\"none\"/>\n",
              "    <path d=\"M18.56 5.44l.94 2.06.94-2.06 2.06-.94-2.06-.94-.94-2.06-.94 2.06-2.06.94zm-11 1L8.5 8.5l.94-2.06 2.06-.94-2.06-.94L8.5 2.5l-.94 2.06-2.06.94zm10 10l.94 2.06.94-2.06 2.06-.94-2.06-.94-.94-2.06-.94 2.06-2.06.94z\"/><path d=\"M17.41 7.96l-1.37-1.37c-.4-.4-.92-.59-1.43-.59-.52 0-1.04.2-1.43.59L10.3 9.45l-7.72 7.72c-.78.78-.78 2.05 0 2.83L4 21.41c.39.39.9.59 1.41.59.51 0 1.02-.2 1.41-.59l7.78-7.78 2.81-2.81c.8-.78.8-2.07 0-2.86zM5.41 20L4 18.59l7.72-7.72 1.47 1.35L5.41 20z\"/>\n",
              "  </svg>\n",
              "      </button>\n",
              "      \n",
              "  <style>\n",
              "    .colab-df-container {\n",
              "      display:flex;\n",
              "      flex-wrap:wrap;\n",
              "      gap: 12px;\n",
              "    }\n",
              "\n",
              "    .colab-df-convert {\n",
              "      background-color: #E8F0FE;\n",
              "      border: none;\n",
              "      border-radius: 50%;\n",
              "      cursor: pointer;\n",
              "      display: none;\n",
              "      fill: #1967D2;\n",
              "      height: 32px;\n",
              "      padding: 0 0 0 0;\n",
              "      width: 32px;\n",
              "    }\n",
              "\n",
              "    .colab-df-convert:hover {\n",
              "      background-color: #E2EBFA;\n",
              "      box-shadow: 0px 1px 2px rgba(60, 64, 67, 0.3), 0px 1px 3px 1px rgba(60, 64, 67, 0.15);\n",
              "      fill: #174EA6;\n",
              "    }\n",
              "\n",
              "    [theme=dark] .colab-df-convert {\n",
              "      background-color: #3B4455;\n",
              "      fill: #D2E3FC;\n",
              "    }\n",
              "\n",
              "    [theme=dark] .colab-df-convert:hover {\n",
              "      background-color: #434B5C;\n",
              "      box-shadow: 0px 1px 3px 1px rgba(0, 0, 0, 0.15);\n",
              "      filter: drop-shadow(0px 1px 2px rgba(0, 0, 0, 0.3));\n",
              "      fill: #FFFFFF;\n",
              "    }\n",
              "  </style>\n",
              "\n",
              "      <script>\n",
              "        const buttonEl =\n",
              "          document.querySelector('#df-2ac318c3-7ac6-4d62-8e41-473bc549235c button.colab-df-convert');\n",
              "        buttonEl.style.display =\n",
              "          google.colab.kernel.accessAllowed ? 'block' : 'none';\n",
              "\n",
              "        async function convertToInteractive(key) {\n",
              "          const element = document.querySelector('#df-2ac318c3-7ac6-4d62-8e41-473bc549235c');\n",
              "          const dataTable =\n",
              "            await google.colab.kernel.invokeFunction('convertToInteractive',\n",
              "                                                     [key], {});\n",
              "          if (!dataTable) return;\n",
              "\n",
              "          const docLinkHtml = 'Like what you see? Visit the ' +\n",
              "            '<a target=\"_blank\" href=https://colab.research.google.com/notebooks/data_table.ipynb>data table notebook</a>'\n",
              "            + ' to learn more about interactive tables.';\n",
              "          element.innerHTML = '';\n",
              "          dataTable['output_type'] = 'display_data';\n",
              "          await google.colab.output.renderOutput(dataTable, element);\n",
              "          const docLink = document.createElement('div');\n",
              "          docLink.innerHTML = docLinkHtml;\n",
              "          element.appendChild(docLink);\n",
              "        }\n",
              "      </script>\n",
              "    </div>\n",
              "  </div>\n",
              "  "
            ]
          },
          "metadata": {},
          "execution_count": 24
        }
      ]
    },
    {
      "cell_type": "code",
      "source": [
        "#Check the Label distribution \n",
        "df_train['label'].value_counts(normalize = True)"
      ],
      "metadata": {
        "colab": {
          "base_uri": "https://localhost:8080/"
        },
        "id": "nvOm1W0DS5Zn",
        "outputId": "7c8a2fba-dbcc-44cc-f6bc-15b9a35a5436"
      },
      "execution_count": 25,
      "outputs": [
        {
          "output_type": "execute_result",
          "data": {
            "text/plain": [
              "0    0.666667\n",
              "1    0.333333\n",
              "Name: label, dtype: float64"
            ]
          },
          "metadata": {},
          "execution_count": 25
        }
      ]
    },
    {
      "cell_type": "code",
      "source": [
        "#Check the correlation of the attribute with the label before data preprocessing \n",
        "df_train.corr()['label']"
      ],
      "metadata": {
        "colab": {
          "base_uri": "https://localhost:8080/"
        },
        "id": "Nt7wW16JS_mL",
        "outputId": "6b4c7cb0-3b80-47af-9618-6bfea9a40953"
      },
      "execution_count": 26,
      "outputs": [
        {
          "output_type": "execute_result",
          "data": {
            "text/plain": [
              "id                         -0.008738\n",
              "MO HLADR+ MFI (cells/ul)   -0.279773\n",
              "Neu CD64+MFI (cells/ul)     0.534729\n",
              "CD3+T (cells/ul)           -0.421029\n",
              "CD8+T (cells/ul)           -0.375862\n",
              "CD4+T (cells/ul)           -0.384415\n",
              "NK (cells/ul)              -0.466103\n",
              "CD19+ (cells/ul)           -0.369889\n",
              "CD45+ (cells/ul)           -0.478815\n",
              "Age                         0.041413\n",
              "Sex 0M1F                    0.048795\n",
              "Mono CD64+MFI (cells/ul)    0.380527\n",
              "label                       1.000000\n",
              "Name: label, dtype: float64"
            ]
          },
          "metadata": {},
          "execution_count": 26
        }
      ]
    },
    {
      "cell_type": "markdown",
      "source": [
        "#Data preprocessing for training dataset "
      ],
      "metadata": {
        "id": "laebg3o5TQFb"
      }
    },
    {
      "cell_type": "code",
      "source": [
        "#Replace the NaN value with mean \n",
        "df_train.fillna(df_train.mean(), inplace=True)"
      ],
      "metadata": {
        "id": "gnblfDN4TKmr"
      },
      "execution_count": 27,
      "outputs": []
    },
    {
      "cell_type": "code",
      "source": [
        "#Separate the patient age into different bin\n",
        "df_train['Age'] = pd.cut(df_train['Age'],bins=[10,20,30,40,50,60,1000],\\\n",
        "                                       labels=['Age: 10-20', 'Age: 20-30', 'Age: 30-40', 'Age: 40-50', 'Age: 50-60', 'Age: 60 - Above'])\n",
        "lbl = preprocessing.LabelEncoder()\n",
        "df_train['Age'] = lbl.fit_transform(df_train['Age'].astype(str))"
      ],
      "metadata": {
        "id": "rFEEUwI7Tb1z"
      },
      "execution_count": 28,
      "outputs": []
    },
    {
      "cell_type": "code",
      "source": [
        "#Separate data into X & Y \n",
        "X_train = df_train.iloc[:,1:-1]\n",
        "Y_train = df_train['label']"
      ],
      "metadata": {
        "id": "32rrohU9TdMj"
      },
      "execution_count": 29,
      "outputs": []
    },
    {
      "cell_type": "code",
      "source": [
        "#Resampling with the SMOTE\n",
        "X_train, Y_train = SMOTE(random_state=42).fit_resample(X_train, Y_train)"
      ],
      "metadata": {
        "id": "XBKZ_i5-TfqF"
      },
      "execution_count": 30,
      "outputs": []
    },
    {
      "cell_type": "markdown",
      "source": [
        "#Data preprocessing for testing dataset"
      ],
      "metadata": {
        "id": "y6oEI7OrTlTh"
      }
    },
    {
      "cell_type": "code",
      "source": [
        "#Replace the NaN value with mean \n",
        "df_test.fillna(df_test.mean(), inplace=True)"
      ],
      "metadata": {
        "id": "jBiScgPsToea"
      },
      "execution_count": 31,
      "outputs": []
    },
    {
      "cell_type": "code",
      "source": [
        "#Separate the patient age into different bin\n",
        "df_test['Age'] = pd.cut(df_test['Age'],bins=[10,20,30,40,50,60,1000],\\\n",
        "                                       labels=['Age: 10-20', 'Age: 20-30', 'Age: 30-40', 'Age: 40-50', 'Age: 50-60', 'Age: 60 - Above'])\n",
        "lbl = preprocessing.LabelEncoder()\n",
        "df_test['Age'] = lbl.fit_transform(df_test['Age'].astype(str))"
      ],
      "metadata": {
        "id": "4ZaijjK7TqCZ"
      },
      "execution_count": 32,
      "outputs": []
    },
    {
      "cell_type": "code",
      "source": [
        "#Drop the ID column \n",
        "df_test = df_test.iloc[:,1:]"
      ],
      "metadata": {
        "id": "w-4CBMnyTrxU"
      },
      "execution_count": 33,
      "outputs": []
    },
    {
      "cell_type": "markdown",
      "source": [
        "#Model Training: Gride search for the Randome forest "
      ],
      "metadata": {
        "id": "_z60CN4aTuBF"
      }
    },
    {
      "cell_type": "code",
      "source": [
        "# Create the param grid\n",
        "param = [{'n_estimators': range(10,150,20),\n",
        "               'max_features' : [\"auto\",\"log2\"],\n",
        "               'max_depth': range(3,12,2),\n",
        "               'min_samples_split': [2,3,4,5],\n",
        "               'min_samples_leaf': [1, 2,3]}]\n",
        "print(param)"
      ],
      "metadata": {
        "colab": {
          "base_uri": "https://localhost:8080/"
        },
        "id": "JRfepvtET2N1",
        "outputId": "34deec40-b45c-4b3e-ba5a-a536c7b2851f"
      },
      "execution_count": 34,
      "outputs": [
        {
          "output_type": "stream",
          "name": "stdout",
          "text": [
            "[{'n_estimators': range(10, 150, 20), 'max_features': ['auto', 'log2'], 'max_depth': range(3, 12, 2), 'min_samples_split': [2, 3, 4, 5], 'min_samples_leaf': [1, 2, 3]}]\n"
          ]
        }
      ]
    },
    {
      "cell_type": "code",
      "source": [
        "#Define the model\n",
        "model = GridSearchCV(RandomForestClassifier(), param, cv=5,\n",
        "                   scoring='accuracy',n_jobs=-1)"
      ],
      "metadata": {
        "id": "Eok6fhS7aKCa"
      },
      "execution_count": 35,
      "outputs": []
    },
    {
      "cell_type": "code",
      "source": [
        "#Start the gride search and print the best parameter and the best score \n",
        "model.fit(X_train, Y_train)"
      ],
      "metadata": {
        "colab": {
          "base_uri": "https://localhost:8080/"
        },
        "id": "G2BQBkFKaNTv",
        "outputId": "a097b0ba-87aa-4815-b987-0626b65015fa"
      },
      "execution_count": 36,
      "outputs": [
        {
          "output_type": "execute_result",
          "data": {
            "text/plain": [
              "GridSearchCV(cv=5, estimator=RandomForestClassifier(), n_jobs=-1,\n",
              "             param_grid=[{'max_depth': range(3, 12, 2),\n",
              "                          'max_features': ['auto', 'log2'],\n",
              "                          'min_samples_leaf': [1, 2, 3],\n",
              "                          'min_samples_split': [2, 3, 4, 5],\n",
              "                          'n_estimators': range(10, 150, 20)}],\n",
              "             scoring='accuracy')"
            ]
          },
          "metadata": {},
          "execution_count": 36
        }
      ]
    },
    {
      "cell_type": "code",
      "source": [
        "#Print the best paramter and the best score \n",
        "print(\"best parameters: \", model.best_params_)\n",
        "print(\"best score:\", model.best_score_ )"
      ],
      "metadata": {
        "colab": {
          "base_uri": "https://localhost:8080/"
        },
        "id": "dQUDTfBYclXC",
        "outputId": "968c01e2-2d62-4cc2-fba9-dc3fcbd908f0"
      },
      "execution_count": 37,
      "outputs": [
        {
          "output_type": "stream",
          "name": "stdout",
          "text": [
            "best parameters:  {'max_depth': 9, 'max_features': 'auto', 'min_samples_leaf': 2, 'min_samples_split': 4, 'n_estimators': 50}\n",
            "best score: 0.9228260869565219\n"
          ]
        }
      ]
    },
    {
      "cell_type": "code",
      "source": [
        "#With reference to the best set of parameter to train the model \n",
        "model = RandomForestClassifier(n_estimators = 50, max_features = 'auto', max_depth = 9, min_samples_leaf = 2, min_samples_split = 4)\n",
        "model.fit(X_train, Y_train)"
      ],
      "metadata": {
        "colab": {
          "base_uri": "https://localhost:8080/"
        },
        "id": "AAPWa_ZOek74",
        "outputId": "31e2b89e-1705-48b4-d324-87974d0476b6"
      },
      "execution_count": 38,
      "outputs": [
        {
          "output_type": "execute_result",
          "data": {
            "text/plain": [
              "RandomForestClassifier(max_depth=9, min_samples_leaf=2, min_samples_split=4,\n",
              "                       n_estimators=50)"
            ]
          },
          "metadata": {},
          "execution_count": 38
        }
      ]
    },
    {
      "cell_type": "markdown",
      "source": [
        "#Save the model"
      ],
      "metadata": {
        "id": "-KUj0iaAak2y"
      }
    },
    {
      "cell_type": "code",
      "source": [
        "#Save the model\n",
        "#You can declare your own path \n",
        "path = 'Final_Model.joblib'\n",
        "dump(model, path) "
      ],
      "metadata": {
        "colab": {
          "base_uri": "https://localhost:8080/"
        },
        "id": "ld0OflNXapUc",
        "outputId": "fded245c-a459-4346-eaa5-cf1173ef8076"
      },
      "execution_count": 43,
      "outputs": [
        {
          "output_type": "execute_result",
          "data": {
            "text/plain": [
              "['Final_Model.joblib']"
            ]
          },
          "metadata": {},
          "execution_count": 43
        }
      ]
    },
    {
      "cell_type": "markdown",
      "source": [
        "#Generate the prediction "
      ],
      "metadata": {
        "id": "PWnvrg16aqZe"
      }
    },
    {
      "cell_type": "code",
      "source": [
        "#Generate the submission result \n",
        "predictions = model.predict(df_test)"
      ],
      "metadata": {
        "id": "gIh_S8gOawkh"
      },
      "execution_count": 39,
      "outputs": []
    },
    {
      "cell_type": "code",
      "source": [
        "#Output to CSV with header of ID & Label \n",
        "#Your can declare your own path \n",
        "path = \"submission.csv\"\n",
        "x_np = predictions.astype(int)\n",
        "df = pd.DataFrame(x_np)\n",
        "df.rename_axis('id', inplace=True)\n",
        "df.to_csv(path,index = True, header=['label'])"
      ],
      "metadata": {
        "id": "LvyVTZipa0Uo"
      },
      "execution_count": 40,
      "outputs": []
    },
    {
      "cell_type": "code",
      "source": [
        ""
      ],
      "metadata": {
        "id": "NA7mHYC3eqGA"
      },
      "execution_count": null,
      "outputs": []
    }
  ]
}